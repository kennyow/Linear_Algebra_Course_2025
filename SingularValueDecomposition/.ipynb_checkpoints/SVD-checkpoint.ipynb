{
 "cells": [
  {
   "cell_type": "markdown",
   "id": "17827c44-9382-4b04-8f1a-226d7f2fa813",
   "metadata": {},
   "source": [
    "# Singular Value Decomposition (SVD)"
   ]
  },
  {
   "cell_type": "markdown",
   "id": "ac46ec32-19b8-4f61-8359-e2a2a1a3dc69",
   "metadata": {},
   "source": [
    "### Remembering...\n",
    "\n",
    "$$ \n",
    "\\begin{align}\n",
    "C(AA^T) = C(A) \\\\\n",
    "R(A^TA) = R(A) \n",
    "\\end{align}\n",
    "$$"
   ]
  },
  {
   "cell_type": "markdown",
   "id": "ae66e378-ff17-4a50-af8f-6b82558b6ec3",
   "metadata": {},
   "source": [
    "# $$ A = U \\sum V^T $$\n",
    "- A = (m x n)  \n",
    "- U = Orthogonal basis for column space of A (m x m)\n",
    "- Sum = Singular values of A( m x n)\n",
    "- V^T = Orthgonal basis for row space of A(n x n)"
   ]
  },
  {
   "cell_type": "markdown",
   "id": "75386ffa-5319-4493-ad76-0a07fd8569cb",
   "metadata": {},
   "source": [
    "$$ \n",
    "\\begin{align}\n",
    "A &= U \\Sigma V^T \\\\\n",
    "A^TA &= (U \\Sigma V^T )^T U \\Sigma V^T \\\\\n",
    "A^TA &= V^{TT} \\Sigma^{T} U^T U \\Sigma V^T \\\\\n",
    "A^TA &= V \\Sigma^T I \\Sigma V^T \\\\\n",
    "A^TA &= V \\Sigma^2 V^T \\\\\n",
    "\\end{align}\n",
    "$$\n"
   ]
  },
  {
   "cell_type": "markdown",
   "id": "033c9792-050c-4219-bfa0-02a448db3602",
   "metadata": {},
   "source": [
    "## Compute U"
   ]
  },
  {
   "cell_type": "markdown",
   "id": "4e7f1b89-0572-4c4f-a66c-2b78ccec47c2",
   "metadata": {},
   "source": [
    "$$ \n",
    "\\begin{align}\n",
    "A &= U \\Sigma V^T \\\\\n",
    "AA^T &= U \\Sigma V^T (U \\Sigma V^T)^T \\\\\n",
    "AA^T &= U \\Sigma V^T V \\Sigma^T U^T \\\\\n",
    "AA^T &= U \\Sigma \\Sigma^T U^T \\\\\n",
    "AA^T &= U \\Sigma^2 U^T\n",
    "\\end{align}\n",
    "$$"
   ]
  },
  {
   "cell_type": "code",
   "execution_count": 21,
   "id": "31b37ac7-9c65-44d5-bcbc-d616843417b5",
   "metadata": {},
   "outputs": [],
   "source": [
    "import numpy as np\n",
    "import matplotlib.pyplot as plt\n",
    "import pandas as pd"
   ]
  },
  {
   "cell_type": "code",
   "execution_count": 23,
   "id": "815b7666-c3aa-4ab2-8cd4-ddc27009d896",
   "metadata": {},
   "outputs": [
    {
     "name": "stdout",
     "output_type": "stream",
     "text": [
      "[[-0.52138438  0.85332193]\n",
      " [-0.85332193 -0.52138438]]\n",
      " \n",
      "[9.89086518 3.18916698]\n",
      " \n",
      "[[-0.84833111 -0.08627374 -0.52238986]\n",
      " [-0.50518185 -0.16348607  0.84738634]\n",
      " [-0.15851066  0.98276607  0.09510639]]\n",
      " \n"
     ]
    },
    {
     "data": {
      "text/plain": [
       "(None, None)"
      ]
     },
     "execution_count": 23,
     "metadata": {},
     "output_type": "execute_result"
    }
   ],
   "source": [
    "# the matrix \n",
    "A = [[3, 0, 5], [ 8, 1, 3]]\n",
    "\n",
    "#Note differences from matlab: S is vector, V is V'\n",
    "\n",
    "U,S,V = np.linalg.svd(A)\n",
    "print(U), print(' ')\n",
    "print(S), print(' ')\n",
    "print(V), print(' ')"
   ]
  },
  {
   "cell_type": "code",
   "execution_count": 25,
   "id": "c91358e4-8c9a-41dc-ba52-3c9169a19796",
   "metadata": {},
   "outputs": [
    {
     "name": "stderr",
     "output_type": "stream",
     "text": [
      "<>:13: SyntaxWarning: invalid escape sequence '\\S'\n",
      "<>:13: SyntaxWarning: invalid escape sequence '\\S'\n",
      "C:\\Users\\kenny\\AppData\\Local\\Temp\\ipykernel_17692\\1421782242.py:13: SyntaxWarning: invalid escape sequence '\\S'\n",
      "  plt.title('$\\Sigma$')\n"
     ]
    },
    {
     "data": {
      "image/png": "[encoded data removed]",
      "text/plain": [
       "<Figure size 640x480 with 4 Axes>"
      ]
     },
     "metadata": {},
     "output_type": "display_data"
    }
   ],
   "source": [
    "plt.subplot(141)\n",
    "plt.imshow(A)\n",
    "plt.title('A')\n",
    "plt.axis('off')\n",
    "\n",
    "plt.subplot(142)\n",
    "plt.imshow(U)\n",
    "plt.title('U')\n",
    "plt.axis('off')\n",
    "\n",
    "plt.subplot(143)\n",
    "plt.imshow(np.diag(S))\n",
    "plt.title('$\\Sigma$')\n",
    "plt.axis('off')\n",
    "\n",
    "plt.subplot(144)\n",
    "plt.imshow(V)\n",
    "plt.title('V')\n",
    "plt.axis('off')\n",
    "\n",
    "plt.show()"
   ]
  },
  {
   "cell_type": "code",
   "execution_count": null,
   "id": "41f6cdd4-fa42-49a0-919a-5c2135241d40",
   "metadata": {},
   "outputs": [],
   "source": []
  }
 ],
 "metadata": {
  "kernelspec": {
   "display_name": "Python 3 (ipykernel)",
   "language": "python",
   "name": "python3"
  },
  "language_info": {
   "codemirror_mode": {
    "name": "ipython",
    "version": 3
   },
   "file_extension": ".py",
   "mimetype": "text/x-python",
   "name": "python",
   "nbconvert_exporter": "python",
   "pygments_lexer": "ipython3",
   "version": "3.12.7"
  }
 },
 "nbformat": 4,
 "nbformat_minor": 5
}
