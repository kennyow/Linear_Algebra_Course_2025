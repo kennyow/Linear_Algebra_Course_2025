{
 "cells": [
  {
   "cell_type": "markdown",
   "id": "17827c44-9382-4b04-8f1a-226d7f2fa813",
   "metadata": {},
   "source": [
    "# Singular Value Decomposition (SVD)"
   ]
  },
  {
   "cell_type": "markdown",
   "id": "ac46ec32-19b8-4f61-8359-e2a2a1a3dc69",
   "metadata": {},
   "source": [
    "### Remembering...\n",
    "\n",
    "$$ \n",
    "\\begin{align}\n",
    "C(AA^T) = C(A) \\\\\n",
    "R(A^TA) = R(A) \n",
    "\\end{align}\n",
    "$$"
   ]
  },
  {
   "cell_type": "markdown",
   "id": "ae66e378-ff17-4a50-af8f-6b82558b6ec3",
   "metadata": {},
   "source": [
    "# $$ A = U \\Sigma V^T $$\n",
    "- A = (m x n)  \n",
    "- U = Orthogonal basis for column space of A (m x m)\n",
    "- Sum = Singular values of A( m x n)\n",
    "- V^T = Orthgonal basis for row space of A(n x n)"
   ]
  },
  {
   "cell_type": "markdown",
   "id": "75386ffa-5319-4493-ad76-0a07fd8569cb",
   "metadata": {},
   "source": [
    "$$ \n",
    "\\begin{align}\n",
    "A &= U \\Sigma V^T \\\\\n",
    "A^TA &= (U \\Sigma V^T )^T U \\Sigma V^T \\\\\n",
    "A^TA &= V^{TT} \\Sigma^{T} U^T U \\Sigma V^T \\\\\n",
    "A^TA &= V \\Sigma^T I \\Sigma V^T \\\\\n",
    "A^TA &= V \\Sigma^2 V^T \\\\\n",
    "\\end{align}\n",
    "$$\n"
   ]
  },
  {
   "cell_type": "markdown",
   "id": "033c9792-050c-4219-bfa0-02a448db3602",
   "metadata": {},
   "source": [
    "## Compute U"
   ]
  },
  {
   "cell_type": "markdown",
   "id": "4e7f1b89-0572-4c4f-a66c-2b78ccec47c2",
   "metadata": {},
   "source": [
    "$$ \n",
    "\\begin{align}\n",
    "A &= U \\Sigma V^T \\\\\n",
    "AA^T &= U \\Sigma V^T (U \\Sigma V^T)^T \\\\\n",
    "AA^T &= U \\Sigma V^T V \\Sigma^T U^T \\\\\n",
    "AA^T &= U \\Sigma \\Sigma^T U^T \\\\\n",
    "AA^T &= U \\Sigma^2 U^T\n",
    "\\end{align}\n",
    "$$"
   ]
  },
  {
   "cell_type": "code",
   "execution_count": 12,
   "id": "31b37ac7-9c65-44d5-bcbc-d616843417b5",
   "metadata": {},
   "outputs": [],
   "source": [
    "import numpy as np\n",
    "import matplotlib.pyplot as plt\n",
    "import pandas as pd"
   ]
  },
  {
   "cell_type": "code",
   "execution_count": 13,
   "id": "815b7666-c3aa-4ab2-8cd4-ddc27009d896",
   "metadata": {},
   "outputs": [
    {
     "name": "stdout",
     "output_type": "stream",
     "text": [
      "[[-0.52138438  0.85332193]\n",
      " [-0.85332193 -0.52138438]]\n",
      " \n",
      "[9.89086518 3.18916698]\n",
      " \n",
      "[[-0.84833111 -0.08627374 -0.52238986]\n",
      " [-0.50518185 -0.16348607  0.84738634]\n",
      " [-0.15851066  0.98276607  0.09510639]]\n",
      " \n"
     ]
    },
    {
     "data": {
      "text/plain": [
       "(None, None)"
      ]
     },
     "execution_count": 13,
     "metadata": {},
     "output_type": "execute_result"
    }
   ],
   "source": [
    "# the matrix \n",
    "A = [[3, 0, 5], [ 8, 1, 3]]\n",
    "\n",
    "#Note differences from matlab: S is vector, V is V'\n",
    "\n",
    "U,S,V = np.linalg.svd(A)\n",
    "print(U), print(' ')\n",
    "print(S), print(' ')\n",
    "print(V), print(' ')"
   ]
  },
  {
   "cell_type": "code",
   "execution_count": 14,
   "id": "c91358e4-8c9a-41dc-ba52-3c9169a19796",
   "metadata": {},
   "outputs": [
    {
     "name": "stderr",
     "output_type": "stream",
     "text": [
      "<>:13: SyntaxWarning: invalid escape sequence '\\S'\n",
      "<>:13: SyntaxWarning: invalid escape sequence '\\S'\n",
      "C:\\Users\\kenny\\AppData\\Local\\Temp\\ipykernel_8948\\1421782242.py:13: SyntaxWarning: invalid escape sequence '\\S'\n",
      "  plt.title('$\\Sigma$')\n"
     ]
    },
    {
     "data": {
      "image/png": "[encoded data removed]",
      "text/plain": [
       "<Figure size 640x480 with 4 Axes>"
      ]
     },
     "metadata": {},
     "output_type": "display_data"
    }
   ],
   "source": [
    "plt.subplot(141)\n",
    "plt.imshow(A)\n",
    "plt.title('A')\n",
    "plt.axis('off')\n",
    "\n",
    "plt.subplot(142)\n",
    "plt.imshow(U)\n",
    "plt.title('U')\n",
    "plt.axis('off')\n",
    "\n",
    "plt.subplot(143)\n",
    "plt.imshow(np.diag(S))\n",
    "plt.title('$\\Sigma$')\n",
    "plt.axis('off')\n",
    "\n",
    "plt.subplot(144)\n",
    "plt.imshow(V)\n",
    "plt.title('V')\n",
    "plt.axis('off')\n",
    "\n",
    "plt.show()"
   ]
  },
  {
   "cell_type": "markdown",
   "id": "9aed0dc6-6bb2-48ce-b709-01cf06e803f3",
   "metadata": {},
   "source": [
    "## Challenge"
   ]
  },
  {
   "cell_type": "code",
   "execution_count": 16,
   "id": "cc538a9a-e56a-4b9a-b202-1989f5f5d2ee",
   "metadata": {},
   "outputs": [
    {
     "name": "stdout",
     "output_type": "stream",
     "text": [
      "Matrix A: \n",
      " [[ 3.74375925 -0.75515093  0.76352852 -3.06894019  2.43473185]\n",
      " [-0.75515093  4.15970706  1.20839481  2.42921783  2.15450996]\n",
      " [ 0.76352852  1.20839481  4.67029247  1.34658494 -0.59421291]\n",
      " [-3.06894019  2.42921783  1.34658494  7.18691634  0.88616267]\n",
      " [ 2.43473185  2.15450996 -0.59421291  0.88616267  6.7143975 ]]\n",
      " \n",
      "Eigenvalues of A: \n",
      " L: [10.42532504  8.56509227  0.15627904  5.05147341  2.27690286] \n",
      " \n",
      " W: [[-0.30671941  0.48459952 -0.71272815  0.32927185  0.23384856]\n",
      " [ 0.45426113  0.22669961 -0.26392579  0.09661707 -0.81440926]\n",
      " [ 0.21494266 -0.01784577  0.3493839   0.9052682   0.1090943 ]\n",
      " [ 0.77941402 -0.16420912 -0.34091572 -0.11527126  0.48583759]\n",
      " [ 0.21420427  0.8285454   0.42903279 -0.22236731  0.1846962 ]]\n",
      " \n",
      "Singular Values Decomposition of A: \n",
      " U: [[-0.30671941 -0.48459952 -0.32927185 -0.23384856 -0.71272815]\n",
      " [ 0.45426113 -0.22669961 -0.09661707  0.81440926 -0.26392579]\n",
      " [ 0.21494266  0.01784577 -0.9052682  -0.1090943   0.3493839 ]\n",
      " [ 0.77941402  0.16420912  0.11527126 -0.48583759 -0.34091572]\n",
      " [ 0.21420427 -0.8285454   0.22236731 -0.1846962   0.42903279]] \n",
      " \n",
      " S: [9.89086518 3.18916698] \n",
      " \n",
      " V: [[-0.30671941  0.45426113  0.21494266  0.77941402  0.21420427]\n",
      " [-0.48459952 -0.22669961  0.01784577  0.16420912 -0.8285454 ]\n",
      " [-0.32927185 -0.09661707 -0.9052682   0.11527126  0.22236731]\n",
      " [-0.23384856  0.81440926 -0.1090943  -0.48583759 -0.1846962 ]\n",
      " [-0.71272815 -0.26392579  0.3493839  -0.34091572  0.42903279]]\n",
      " \n"
     ]
    },
    {
     "data": {
      "text/plain": [
       "(None, None)"
      ]
     },
     "execution_count": 16,
     "metadata": {},
     "output_type": "execute_result"
    }
   ],
   "source": [
    "#relationship between eig and SVD for a square symetric matrix?\n",
    "\n",
    "#create a symmetric matrix\n",
    "A = np.random.randn(5,5)\n",
    "A = A.T@A\n",
    "\n",
    "print(f\"Matrix A: \\n {A}\"), print(' ')\n",
    "#eig ( W, L) and svd ( U, S, V)\n",
    "L, W = np.linalg.eig(A)\n",
    "U, s, V = np.linalg.svd(A)\n",
    "\n",
    "print(f\"Eigenvalues of A: \\n L: {L} \\n \\n W: {W}\"), print(' ')\n",
    "\n",
    "print(f\"Singular Values Decomposition of A: \\n U: {U} \\n \\n S: {S} \\n \\n V: {V}\"), print(' ')"
   ]
  },
  {
   "cell_type": "code",
   "execution_count": 17,
   "id": "feff78a1-b398-4e10-8ada-e8baf78c6b34",
   "metadata": {},
   "outputs": [],
   "source": [
    "#  sort eig outputs\n",
    "sidx = np.argsort(L)[::-1]\n",
    "L = L[sidx]\n",
    "W = W[:, sidx]"
   ]
  },
  {
   "cell_type": "code",
   "execution_count": 18,
   "id": "2804b577-892a-4188-9ad3-81ad5c8c7e40",
   "metadata": {},
   "outputs": [
    {
     "name": "stderr",
     "output_type": "stream",
     "text": [
      "<>:12: SyntaxWarning: invalid escape sequence '\\S'\n",
      "<>:12: SyntaxWarning: invalid escape sequence '\\S'\n",
      "C:\\Users\\kenny\\AppData\\Local\\Temp\\ipykernel_8948\\609894478.py:12: SyntaxWarning: invalid escape sequence '\\S'\n",
      "  ax[1,1].set_title('$\\Sigma$ (svd)')\n"
     ]
    },
    {
     "data": {
      "image/png": "[encoded data removed]",
      "text/plain": [
       "<Figure size 1000x700 with 6 Axes>"
      ]
     },
     "metadata": {},
     "output_type": "display_data"
    }
   ],
   "source": [
    "#images of all matrices\n",
    "fig, ax = plt.subplots(2,3, figsize = (10, 7))\n",
    "ax[0,0].imshow(W)\n",
    "ax[0,0].set_title('W_eig')\n",
    "ax[0,1].imshow(np.diag(L))\n",
    "ax[0,1].set_title('L_eig')\n",
    "ax[0,2].imshow(np.zeros((1,1)))\n",
    "\n",
    "ax[1,0].imshow(U)\n",
    "ax[1,0].set_title('U (svd)')\n",
    "ax[1,1].imshow(np.diag(s))\n",
    "ax[1,1].set_title('$\\Sigma$ (svd)')\n",
    "ax[1,2].imshow(V)\n",
    "ax[1,2].set_title('V$^T$ (svd)')\n",
    "\n",
    "\n",
    "plt.show()\n",
    "\n",
    "#compare U and V, and U and W"
   ]
  },
  {
   "cell_type": "code",
   "execution_count": 19,
   "id": "20a4d27d-a5da-4d46-9684-cf7fdb24d94d",
   "metadata": {},
   "outputs": [
    {
     "name": "stdout",
     "output_type": "stream",
     "text": [
      "[[ 0. -0.  0.  0.  0.]\n",
      " [ 0. -0. -0. -0.  0.]\n",
      " [ 0. -0.  0.  0. -0.]\n",
      " [ 0.  0. -0.  0.  0.]\n",
      " [-0. -0. -0. -0.  0.]]\n"
     ]
    }
   ],
   "source": [
    "#comparing U and V\n",
    "print(np.round(U-V.T, 4))"
   ]
  },
  {
   "cell_type": "code",
   "execution_count": 20,
   "id": "c6b816af-cf5b-43c3-a107-956cddadc3b5",
   "metadata": {},
   "outputs": [
    {
     "name": "stdout",
     "output_type": "stream",
     "text": [
      "[[ 0.     -0.9389 -0.5442 -1.0133 -0.9269]\n",
      " [-0.0303 -0.4534 -0.0788  0.9786 -1.0925]\n",
      " [-0.1143 -0.0788 -1.8105  0.0062  0.5718]\n",
      " [ 0.5456  0.9786  0.0062 -0.9717 -0.5256]\n",
      " [ 0.9269 -0.5646 -0.127   0.1562  0.    ]]\n"
     ]
    }
   ],
   "source": [
    "#comparing U and W\n",
    "print(np.round(U-W.T, 4))"
   ]
  },
  {
   "cell_type": "markdown",
   "id": "bf32dfd2-931d-4ae7-a202-72b3709544bd",
   "metadata": {},
   "source": [
    "## Relation between singular values and eigenvalues"
   ]
  },
  {
   "cell_type": "code",
   "execution_count": 22,
   "id": "012cd8fd-6bf9-4f7c-9f13-5890ce986114",
   "metadata": {},
   "outputs": [
    {
     "name": "stdout",
     "output_type": "stream",
     "text": [
      "Eigenvalues of A: \n",
      "[ 0.          0.34314575 11.65685425]\n",
      "\n",
      "Singular Values of A: \n",
      "[ 0.34314575 11.65685425]\n",
      "\n"
     ]
    }
   ],
   "source": [
    "#Case 1: eig(A'A) vs. svd(A)\n",
    "\n",
    "A = np.array(([[3,1,0], [1,1,0]]))\n",
    "\n",
    "print(f'Eigenvalues of A: \\n{np.sort(np.linalg.eig(A.T @ A)[0])}\\n')\n",
    "print(f'Singular Values of A: \\n{np.sort(np.linalg.svd(A)[1])**2}\\n')\n"
   ]
  },
  {
   "cell_type": "code",
   "execution_count": 23,
   "id": "c59ff77b-03f5-418b-b6d8-3250e552ec19",
   "metadata": {},
   "outputs": [
    {
     "name": "stdout",
     "output_type": "stream",
     "text": [
      "Eigenvalues of ATA: \n",
      "[ 0.          0.34314575 11.65685425]\n",
      "\n",
      "Singular Values of ATA: \n",
      "[ 0.          0.34314575 11.65685425]\n",
      "\n"
     ]
    }
   ],
   "source": [
    "#case 2:  eig(A'A) vs. svd(A'A)\n",
    "\n",
    "print(f'Eigenvalues of ATA: \\n{np.sort(np.linalg.eig(A.T @ A)[0])}\\n')\n",
    "print(f'Singular Values of ATA: \\n{np.sort(np.linalg.svd(A.T@A)[1])}\\n')"
   ]
  },
  {
   "cell_type": "code",
   "execution_count": 24,
   "id": "ca55c9c8-fa8a-43f9-82bc-74d07aa57e28",
   "metadata": {},
   "outputs": [
    {
     "name": "stdout",
     "output_type": "stream",
     "text": [
      "Eigenvalues of A: \n",
      "[0.58578644 1.         3.41421356]\n",
      "\n",
      "Singular Values of A: \n",
      "[0.49384652 1.10038368 3.68039011]\n",
      "\n"
     ]
    }
   ],
   "source": [
    "#case 3: eig(A) vs. svd(A), real-valued eigs\n",
    "\n",
    "#need a square matrix for eig\n",
    "A = [[3,1,0], [1,1,0], [1,1,1]]\n",
    "print(f'Eigenvalues of A: \\n{np.sort(np.linalg.eig(A)[0])}\\n')\n",
    "print(f'Singular Values of A: \\n{np.sort(np.linalg.svd(A)[1])}\\n')\n",
    "\n",
    "#There's no trivial relatioship between them"
   ]
  },
  {
   "cell_type": "code",
   "execution_count": 25,
   "id": "6cefc603-7a10-40f6-b6d1-4435494433f8",
   "metadata": {},
   "outputs": [
    {
     "name": "stdout",
     "output_type": "stream",
     "text": [
      "Eigenvalues of A random: \n",
      "[0.11874853+0.j         1.02159687-0.70598847j 1.02159687+0.70598847j]\n",
      "\n",
      "Singular Values of A random: \n",
      "[0.05096593 1.21776402 2.95047576]\n",
      "\n"
     ]
    }
   ],
   "source": [
    "#case 4: eig(A) vs. svd(A), complex eigs\n",
    "\n",
    "#random matrices are likely to give complex eigenvalues\n",
    "A = np.random.randn(3,3)\n",
    "\n",
    "print(f'Eigenvalues of A random: \\n{np.sort(np.linalg.eig(A)[0])}\\n')\n",
    "print(f'Singular Values of A random: \\n{np.sort(np.linalg.svd(A)[1])}\\n')\n",
    "\n",
    "#There's no trivial relatioship between them"
   ]
  },
  {
   "cell_type": "markdown",
   "id": "61fed805-e88e-4b22-ab85-07615a14b591",
   "metadata": {},
   "source": [
    "## Challenge\n",
    "\n",
    "$$ \n",
    "\\begin{align}\n",
    "A &= U \\Sigma V^T \\\\\n",
    "A^TA &= V \\Sigma^2 V^T \\\\\n",
    "\\end{align}\n",
    "$$"
   ]
  },
  {
   "cell_type": "code",
   "execution_count": 27,
   "id": "78ee8c23-bc0f-415d-887b-2ffd02aa9d2f",
   "metadata": {},
   "outputs": [
    {
     "name": "stdout",
     "output_type": "stream",
     "text": [
      "Matrix A: \n",
      " [[-0.22122138 -2.5484995   0.56248776 -0.40866516 -0.22396861 -0.68751214]\n",
      " [ 1.11684785 -0.5777851   0.32122772  0.4694131  -1.43999986 -1.25793949]\n",
      " [-0.04933496  2.261621   -2.7584881  -0.38981793  0.13377219  1.36410087]]\n",
      " \n",
      "Singular Values Decomposition of A: \n",
      " U: [[ 0.51614349 -0.31121504 -0.79796059]\n",
      " [ 0.2955021   0.93915059 -0.17514186]\n",
      " [-0.80391194  0.1454007  -0.57670116]] \n",
      " \n",
      " S: [4.6434026  2.02312432 1.4878776 ] \n",
      " \n",
      " V: [[ 0.05502643 -0.71160581  0.56054355  0.05193648 -0.13969583 -0.39264217]\n",
      " [ 0.54893434  0.28636176 -0.13566124  0.25275389 -0.62439255 -0.38014929]\n",
      " [ 0.00629801  0.5581891   0.72971043  0.31500794  0.23777211 -0.01193183]\n",
      " [-0.45001412 -0.13846974 -0.24073317  0.84697779 -0.04766101 -0.02679573]\n",
      " [ 0.55611306 -0.13963562 -0.23646254  0.23826026  0.71165826 -0.22825468]\n",
      " [ 0.42875293 -0.24772379  0.14506085  0.24504845 -0.15923062  0.80520685]]\n",
      " \n"
     ]
    },
    {
     "data": {
      "text/plain": [
       "(None, None)"
      ]
     },
     "execution_count": 27,
     "metadata": {},
     "output_type": "execute_result"
    }
   ],
   "source": [
    "# create a matrix (3x6)\n",
    "m = 3\n",
    "n = 6\n",
    "\n",
    "A = np.random.randn(m, n)\n",
    "print(f\"Matrix A: \\n {A}\"), print(' ')\n",
    "\n",
    "#full svd (variables Us, Ss, Vs)\n",
    "Us, Ss, Vs = np.linalg.svd(A)\n",
    "\n",
    "print(f\"Singular Values Decomposition of A: \\n U: {Us} \\n \\n S: {Ss} \\n \\n V: {Vs}\"), print(' ')\n",
    "\n"
   ]
  },
  {
   "cell_type": "code",
   "execution_count": 28,
   "id": "70f895b4-a07c-4a95-928f-0e7b25a39466",
   "metadata": {},
   "outputs": [
    {
     "name": "stdout",
     "output_type": "stream",
     "text": [
      "Eigenvalues of A: \n",
      " L: [ 2.15611877e+01  1.25414579e-15  4.09303202e+00  2.21377975e+00\n",
      "  7.25504693e-16 -6.07542493e-16] \n",
      " \n",
      " Eigenvector of A: [[ 0.05502643 -0.83402849  0.54893434  0.00629801  0.07337824 -0.10130786]\n",
      " [-0.71160581  0.145741    0.28636176  0.5581891  -0.20174952 -0.24856465]\n",
      " [ 0.56054355 -0.04679538 -0.13566124  0.72971043 -0.33433113 -0.03230026]\n",
      " [ 0.05193648  0.17216089  0.25275389  0.31500794  0.77864774  0.72910462]\n",
      " [-0.13969583 -0.41837897 -0.62439255  0.23777211  0.45805119 -0.2516909 ]\n",
      " [-0.39264217 -0.27619901 -0.38014929 -0.01193183 -0.16134514  0.57616592]]\n",
      " \n",
      "Eigenvalues of A: \n",
      " L: [ 2.15611877e+01  4.09303202e+00  2.21377975e+00  1.25414579e-15\n",
      "  7.25504693e-16 -6.07542493e-16] \n",
      " \n",
      " Eigenvector of A: [[ 0.05502643  0.54893434  0.00629801 -0.83402849  0.07337824 -0.10130786]\n",
      " [-0.71160581  0.28636176  0.5581891   0.145741   -0.20174952 -0.24856465]\n",
      " [ 0.56054355 -0.13566124  0.72971043 -0.04679538 -0.33433113 -0.03230026]\n",
      " [ 0.05193648  0.25275389  0.31500794  0.17216089  0.77864774  0.72910462]\n",
      " [-0.13969583 -0.62439255  0.23777211 -0.41837897  0.45805119 -0.2516909 ]\n",
      " [-0.39264217 -0.38014929 -0.01193183 -0.27619901 -0.16134514  0.57616592]]\n",
      " \n"
     ]
    },
    {
     "data": {
      "text/plain": [
       "(None, None)"
      ]
     },
     "execution_count": 28,
     "metadata": {},
     "output_type": "execute_result"
    }
   ],
   "source": [
    "#eig of A'A\n",
    "L,V = np.linalg.eig(A.T@A)\n",
    "print(f\"Eigenvalues of A: \\n L: {L} \\n \\n Eigenvector of A: {V}\"), print(' ')\n",
    "\n",
    "#sort eigensolution\n",
    "sidx = np.argsort(L)[::-1]\n",
    "L = L[sidx]\n",
    "V = V[:,sidx]\n",
    "\n",
    "print(f\"Eigenvalues of A: \\n L: {L} \\n \\n Eigenvector of A: {V}\"), print(' ')"
   ]
  },
  {
   "cell_type": "code",
   "execution_count": 29,
   "id": "fd60d5b7-e118-4547-9165-a07877b3c646",
   "metadata": {},
   "outputs": [
    {
     "name": "stdout",
     "output_type": "stream",
     "text": [
      "[[ 0.11  1.1   0.01 -1.28  0.63  0.33]\n",
      " [-1.42  0.57  1.12  0.01 -0.34 -0.5 ]\n",
      " [ 1.12 -0.27  1.46 -0.29 -0.57  0.11]\n",
      " [ 0.1   0.51  0.63  1.02  1.02  0.97]\n",
      " [-0.28 -1.25  0.48 -0.47  1.17 -0.41]\n",
      " [-0.79 -0.76 -0.02 -0.3  -0.39  1.38]]\n"
     ]
    }
   ],
   "source": [
    "#confirm that V == Vs\n",
    "print(np.round(Vs.T+V, 2))"
   ]
  },
  {
   "cell_type": "code",
   "execution_count": 30,
   "id": "7ece0ecc-8a1f-4f4a-be17-84add37476fe",
   "metadata": {},
   "outputs": [
    {
     "name": "stdout",
     "output_type": "stream",
     "text": [
      "[ 2.15611877e+01  4.09303202e+00  2.21377975e+00  1.25414579e-15\n",
      "  7.25504693e-16 -6.07542493e-16]\n",
      " \n",
      "[21.56118771  4.09303202  2.21377975]\n"
     ]
    }
   ],
   "source": [
    "#check the relationship between Ss and L\n",
    "print(L), print(' ')\n",
    "print(Ss**2)"
   ]
  },
  {
   "cell_type": "code",
   "execution_count": 31,
   "id": "10f8d7e4-1144-4234-bdb6-a4d81523963c",
   "metadata": {},
   "outputs": [
    {
     "name": "stdout",
     "output_type": "stream",
     "text": [
      "[[ 1.03 -0.62 -1.6 ]\n",
      " [ 0.59  1.88 -0.35]\n",
      " [-1.61  0.29 -1.15]]\n"
     ]
    }
   ],
   "source": [
    "#create U using only A, V and L\n",
    "\n",
    "U = np.zeros((m,m))\n",
    "for i in range(m):\n",
    "    U[:,i] = A@V[:,i].T/np.sqrt(L[i])\n",
    "\n",
    "print(np.round(U+Us, 2))"
   ]
  },
  {
   "cell_type": "markdown",
   "id": "d7daf49a-4908-4c9c-8136-fe1ac002c108",
   "metadata": {},
   "source": [
    "## Spectral theory of matrices"
   ]
  },
  {
   "cell_type": "code",
   "execution_count": 39,
   "id": "faa288df-4247-4972-86bd-29060625feaf",
   "metadata": {},
   "outputs": [
    {
     "name": "stdout",
     "output_type": "stream",
     "text": [
      "17\n",
      " \n",
      "[-3.    -2.625 -2.25  -1.875 -1.5   -1.125 -0.75  -0.375  0.     0.375\n",
      "  0.75   1.125  1.5    1.875  2.25   2.625  3.   ]\n",
      " \n",
      "[[0.48675226 0.52960438 0.56978282 0.6061517  0.63762815 0.6632356\n",
      "  0.68215389 0.69376291 0.69767633 0.69376291 0.68215389 0.6632356\n",
      "  0.63762815 0.6061517  0.56978282 0.52960438 0.48675226]\n",
      " [0.52960438 0.57622907 0.6199447  0.65951537 0.69376291 0.72162476\n",
      "  0.74220856 0.7548396  0.75909754 0.7548396  0.74220856 0.72162476\n",
      "  0.69376291 0.65951537 0.6199447  0.57622907 0.52960438]\n",
      " [0.56978282 0.6199447  0.66697681 0.70954951 0.74639525 0.77637083\n",
      "  0.79851622 0.81210552 0.81668648 0.81210552 0.79851622 0.77637083\n",
      "  0.74639525 0.70954951 0.66697681 0.6199447  0.56978282]\n",
      " [0.6061517  0.65951537 0.70954951 0.7548396  0.79403717 0.82592608\n",
      "  0.849485   0.86394169 0.86881506 0.86394169 0.849485   0.82592608\n",
      "  0.79403717 0.7548396  0.70954951 0.65951537 0.6061517 ]\n",
      " [0.63762815 0.69376291 0.74639525 0.79403717 0.83527021 0.86881506\n",
      "  0.89359735 0.90880475 0.91393119 0.90880475 0.89359735 0.86881506\n",
      "  0.83527021 0.79403717 0.74639525 0.69376291 0.63762815]\n",
      " [0.6632356  0.72162476 0.77637083 0.82592608 0.86881506 0.90370708\n",
      "  0.92948464 0.94530278 0.95063509 0.94530278 0.92948464 0.90370708\n",
      "  0.86881506 0.82592608 0.77637083 0.72162476 0.6632356 ]\n",
      " [0.68215389 0.74220856 0.79851622 0.849485   0.89359735 0.92948464\n",
      "  0.95599748 0.97226683 0.97775124 0.97226683 0.95599748 0.92948464\n",
      "  0.89359735 0.849485   0.79851622 0.74220856 0.68215389]\n",
      " [0.69376291 0.7548396  0.81210552 0.86394169 0.90880475 0.94530278\n",
      "  0.97226683 0.98881304 0.99439079 0.98881304 0.97226683 0.94530278\n",
      "  0.90880475 0.86394169 0.81210552 0.7548396  0.69376291]\n",
      " [0.69767633 0.75909754 0.81668648 0.86881506 0.91393119 0.95063509\n",
      "  0.97775124 0.99439079 1.         0.99439079 0.97775124 0.95063509\n",
      "  0.91393119 0.86881506 0.81668648 0.75909754 0.69767633]\n",
      " [0.69376291 0.7548396  0.81210552 0.86394169 0.90880475 0.94530278\n",
      "  0.97226683 0.98881304 0.99439079 0.98881304 0.97226683 0.94530278\n",
      "  0.90880475 0.86394169 0.81210552 0.7548396  0.69376291]\n",
      " [0.68215389 0.74220856 0.79851622 0.849485   0.89359735 0.92948464\n",
      "  0.95599748 0.97226683 0.97775124 0.97226683 0.95599748 0.92948464\n",
      "  0.89359735 0.849485   0.79851622 0.74220856 0.68215389]\n",
      " [0.6632356  0.72162476 0.77637083 0.82592608 0.86881506 0.90370708\n",
      "  0.92948464 0.94530278 0.95063509 0.94530278 0.92948464 0.90370708\n",
      "  0.86881506 0.82592608 0.77637083 0.72162476 0.6632356 ]\n",
      " [0.63762815 0.69376291 0.74639525 0.79403717 0.83527021 0.86881506\n",
      "  0.89359735 0.90880475 0.91393119 0.90880475 0.89359735 0.86881506\n",
      "  0.83527021 0.79403717 0.74639525 0.69376291 0.63762815]\n",
      " [0.6061517  0.65951537 0.70954951 0.7548396  0.79403717 0.82592608\n",
      "  0.849485   0.86394169 0.86881506 0.86394169 0.849485   0.82592608\n",
      "  0.79403717 0.7548396  0.70954951 0.65951537 0.6061517 ]\n",
      " [0.56978282 0.6199447  0.66697681 0.70954951 0.74639525 0.77637083\n",
      "  0.79851622 0.81210552 0.81668648 0.81210552 0.79851622 0.77637083\n",
      "  0.74639525 0.70954951 0.66697681 0.6199447  0.56978282]\n",
      " [0.52960438 0.57622907 0.6199447  0.65951537 0.69376291 0.72162476\n",
      "  0.74220856 0.7548396  0.75909754 0.7548396  0.74220856 0.72162476\n",
      "  0.69376291 0.65951537 0.6199447  0.57622907 0.52960438]\n",
      " [0.48675226 0.52960438 0.56978282 0.6061517  0.63762815 0.6632356\n",
      "  0.68215389 0.69376291 0.69767633 0.69376291 0.68215389 0.6632356\n",
      "  0.63762815 0.6061517  0.56978282 0.52960438 0.48675226]]\n",
      " \n"
     ]
    },
    {
     "data": {
      "image/png": "[encoded data removed]",
      "text/plain": [
       "<Figure size 640x480 with 1 Axes>"
      ]
     },
     "metadata": {},
     "output_type": "display_data"
    }
   ],
   "source": [
    "import scipy.signal\n",
    "\n",
    "\n",
    "\n",
    "#matrix sizes\n",
    "m = 40\n",
    "n = 30\n",
    "\n",
    "#define a 2D Gaussian for smoothing\n",
    "k = int((m+n)/4)\n",
    "print(k), print(' ')\n",
    "\n",
    "xx = np.linspace(-3, 3, k)\n",
    "print(xx), print(' ')\n",
    "\n",
    "[X,Y] = np.meshgrid(xx, xx)\n",
    "#print([X,Y]) \n",
    "\n",
    "g2d = np.exp(-(X**2 + Y **2)/ (k+8))\n",
    "print(g2d), print(' ')\n",
    "\n",
    "\n",
    "#matrix \n",
    "A = scipy.signal.convolve2d(np.random.randn(m,n), g2d, 'same')\n",
    "\n",
    "plt.imshow(A)\n",
    "plt.show()"
   ]
  },
  {
   "cell_type": "code",
   "execution_count": null,
   "id": "16901491-3a67-48bb-8ee7-902c15db6fe3",
   "metadata": {},
   "outputs": [],
   "source": [
    "#SVD (remember that V comes out transposed)\n",
    "\n",
    "U, S, V = np.linalg.svd(A)\n",
    "\n",
    "#show the constituent matrices\n",
    "fig = plt.subplots(1, figsize=(10,6))\n",
    "\n",
    "plt.subplot(241)\n",
    "plt.imshow(A)\n",
    "plt.title('A')\n",
    "\n",
    "plt.subplot(242)\n",
    "plt.imshow(U)\n",
    "plt.title('U')\n",
    "\n",
    "plt.subplot(243)\n",
    "plt.imshow(np.diag(S))\n",
    "plt.title('$\\Sigma$')\n",
    "\n",
    "plt.subplot(244)\n",
    "plt.imshow(V)\n",
    "plt.title('V$^T$')\n",
    "\n",
    "plt.subplot(212)\n",
    "plt.plot(S, 'ks-')\n",
    "plt.xlabel('Component number')\n",
    "plt.ylabel('$\\sigma$')\n",
    "plt.title('Scree plot of singular values')\n",
    "\n",
    "plt.show()"
   ]
  },
  {
   "cell_type": "code",
   "execution_count": null,
   "id": "be01a957-8127-4731-8620-907c0d767301",
   "metadata": {},
   "outputs": [],
   "source": [
    "rank1mats = np.zeros((5,m,n))\n",
    "\n",
    "for i in range(0,5):\n",
    "    \n",
    "    # create rank1 matrix\n",
    "    rank1mats[i,:,:] = np.outer( U[:,i]*S[i],V[i,:] )\n",
    "    \n",
    "    plt.subplot2grid((2,5),(0,i))\n",
    "    plt.imshow(rank1mats[i,:,:],vmin=-5,vmax=5)\n",
    "    plt.axis('off')\n",
    "    plt.title('C.%d' %(i+1))\n",
    "    \n",
    "    plt.subplot2grid((2,5),(1,i))\n",
    "    imdat = np.sum(rank1mats[:i+1,:,:],axis=0)\n",
    "    plt.imshow(imdat,vmin=-5,vmax=5)\n",
    "    plt.axis('off')\n",
    "    plt.title('Cs 1:%d' %(i+1))\n",
    "\n",
    "plt.show()\n",
    "\n",
    "# then show the original\n",
    "plt.imshow(A,vmin=-5,vmax=5)\n",
    "plt.show()"
   ]
  },
  {
   "cell_type": "markdown",
   "id": "19510044-e522-40bd-9243-e38c903a0666",
   "metadata": {},
   "source": [
    "## Low Rank Approximations\n",
    "Don't change the size, just change the rank\n",
    "\n",
    "# $$ A_{m,n} = U_{m,n} \\Sigma_{k,k} V^T_{k,n} $$"
   ]
  },
  {
   "cell_type": "code",
   "execution_count": null,
   "id": "f7f363d7-9a78-44bf-96c6-ca4d3a6b6bf5",
   "metadata": {},
   "outputs": [],
   "source": [
    "#number of components (singular \"layers\") to keep\n",
    "nComps = 5\n",
    "\n",
    "#reduced matrices\n",
    "Ur = U[:,0:nComps]\n",
    "Sr = S[0:nComps]\n",
    "Vr = V[0:nComps,:]\n",
    "\n",
    "#Low rank approximation\n",
    "reconImage = Ur@np.diag(Sr)@Vr\n",
    "\n",
    "#rank (confirm same as nComps)\n",
    "print('rank = ', np.linalg.matrix_rank(A)), print(' ')\n",
    "print('rank = ', np.linalg.matrix_rank(reconImage))"
   ]
  },
  {
   "cell_type": "code",
   "execution_count": null,
   "id": "5e19b70c-7bea-4ac4-9e53-787a2635eb56",
   "metadata": {},
   "outputs": [],
   "source": [
    "#error map and percet difference from original matrix\n",
    "errormap = (reconImage-A)**2\n",
    "\n",
    "#show the results\n",
    "plt.subplot(131)\n",
    "plt.imshow(A, vmin=-15, vmax = 15)\n",
    "plt.axis('off')\n",
    "plt.title('Original')\n",
    "\n",
    "plt.subplot(132)\n",
    "plt.imshow(reconImage, vmin=-15, vmax = 15)\n",
    "plt.axis('off')\n",
    "plt.title('Low rank')\n",
    "\n",
    "plt.subplot(133)\n",
    "plt.imshow(errormap, vmin=-15, vmax = 15)\n",
    "plt.axis('off')\n",
    "plt.title('error')\n",
    "\n",
    "plt.show()"
   ]
  },
  {
   "cell_type": "markdown",
   "id": "320ab45f-4b5e-45a1-85cb-7da488c3d332",
   "metadata": {},
   "source": [
    "## Percent Variance\n",
    "# $$ \\pitchfork A = U (\\pitchfork \\Sigma) V^T $$"
   ]
  },
  {
   "cell_type": "code",
   "execution_count": 41,
   "id": "85d759b7-aba1-468f-845d-a54aede08316",
   "metadata": {},
   "outputs": [],
   "source": [
    "\n",
    "#matrix sizes\n",
    "m = 40\n",
    "n = 30\n",
    "\n",
    "#define a 2D Gaussian for smoothing\n",
    "k = int((m+n)/4)\n",
    "#print(k), print(' ')\n",
    "\n",
    "xx = np.linspace(-3, 3, k)\n",
    "#print(xx), print(' ')\n",
    "\n",
    "[X,Y] = np.meshgrid(xx, xx)\n",
    "#print([X,Y]) \n",
    "\n",
    "g2d = np.exp(-(X**2 + Y **2)/ (k+8))\n",
    "#print(g2d), print(' ')\n",
    "\n",
    "\n",
    "#matrix \n",
    "A = scipy.signal.convolve2d(np.random.randn(m,n), g2d, 'same')\n"
   ]
  },
  {
   "cell_type": "code",
   "execution_count": 45,
   "id": "f7d69370-dfe4-4c07-8178-9be19e201471",
   "metadata": {},
   "outputs": [
    {
     "name": "stderr",
     "output_type": "stream",
     "text": [
      "<>:15: SyntaxWarning: invalid escape sequence '\\s'\n",
      "<>:21: SyntaxWarning: invalid escape sequence '\\s'\n",
      "<>:15: SyntaxWarning: invalid escape sequence '\\s'\n",
      "<>:21: SyntaxWarning: invalid escape sequence '\\s'\n",
      "C:\\Users\\kenny\\AppData\\Local\\Temp\\ipykernel_8948\\4066611895.py:15: SyntaxWarning: invalid escape sequence '\\s'\n",
      "  plt.ylabel('$\\sigma$')\n",
      "C:\\Users\\kenny\\AppData\\Local\\Temp\\ipykernel_8948\\4066611895.py:21: SyntaxWarning: invalid escape sequence '\\s'\n",
      "  plt.ylabel('$\\sigma$ (% of total)')\n"
     ]
    },
    {
     "data": {
      "image/png": "[encoded data removed]",
      "text/plain": [
       "<Figure size 700x500 with 3 Axes>"
      ]
     },
     "metadata": {},
     "output_type": "display_data"
    }
   ],
   "source": [
    "Ascaled = A*1345\n",
    "\n",
    "# SVD \n",
    "U, s, V = np.linalg.svd(Ascaled)\n",
    "\n",
    "# convert to percent variance\n",
    "spct = 100*s/np.sum(s)\n",
    "\n",
    "#plot the singular  values for comparison\n",
    "fig = plt.subplots(1, figsize=(7,5))\n",
    "\n",
    "plt.subplot(211)\n",
    "plt.plot(s, 'ks-')\n",
    "plt.xlabel('Component number')\n",
    "plt.ylabel('$\\sigma$')\n",
    "plt.title('Raw Singular Values')\n",
    "\n",
    "plt.subplot(212)\n",
    "plt.plot(spct, 'ks-')\n",
    "plt.xlabel('Component number')\n",
    "plt.ylabel('$\\sigma$ (% of total)')\n",
    "plt.title('Percent-change-normalized singular values')\n",
    "\n",
    "plt.tight_layout()\n",
    "plt.show()"
   ]
  },
  {
   "cell_type": "markdown",
   "id": "8c3c03f8-204c-4150-ac8c-e6d795b902b2",
   "metadata": {},
   "source": [
    "## Challenge"
   ]
  },
  {
   "cell_type": "code",
   "execution_count": 58,
   "id": "79b7a9c6-aacb-4194-a242-cca60b228de6",
   "metadata": {},
   "outputs": [
    {
     "name": "stdout",
     "output_type": "stream",
     "text": [
      "Singular Values Decomposition of A: \n",
      " U: [[-0.71502301  0.51622954  0.11090914 -0.25463583 -0.38093164]\n",
      " [-0.08169564 -0.64681058  0.47207834  0.01125993 -0.59327662]\n",
      " [-0.47893072 -0.4708818  -0.73678977  0.07750157 -0.00548133]\n",
      " [-0.48149118 -0.24378299  0.46461534  0.01003447  0.70197436]\n",
      " [-0.14442829  0.18434566  0.07819611  0.9638084  -0.10057779]] \n",
      " \n",
      " S: [3.41515303 2.23189844 1.90074648 1.24370098 0.18207509] \n",
      " \n",
      " V: [[-0.39545046  0.02819324 -0.50737175 -0.76455555  0.02920261]\n",
      " [ 0.38540406  0.33453708 -0.77962765  0.3241302  -0.16330643]\n",
      " [-0.64225798  0.42460842  0.09432944  0.26334641 -0.57355296]\n",
      " [-0.21533604  0.60304646  0.04830453  0.13041273  0.75539695]\n",
      " [-0.48602235 -0.58594602 -0.35145877  0.473324    0.26998272]]\n",
      " \n",
      "Norm of U: \n",
      " 1.0000000000000002\n",
      " \n",
      "Norm of V: \n",
      " 1.0000000000000002\n",
      " \n",
      "Norm of U@V: \n",
      " 1.0000000000000007\n",
      " \n"
     ]
    },
    {
     "data": {
      "text/plain": [
       "(None, None)"
      ]
     },
     "execution_count": 58,
     "metadata": {},
     "output_type": "execute_result"
    }
   ],
   "source": [
    "#generate a metrix such that U*V' is valid\n",
    "A = np.random.randn(5, 5)\n",
    "\n",
    "#full svd (variables Us, Ss, Vs)\n",
    "U, S, V = np.linalg.svd(A)\n",
    "\n",
    "print(f\"Singular Values Decomposition of A: \\n U: {U} \\n \\n S: {S} \\n \\n V: {V}\"), print(' ')\n",
    "\n",
    "#norm of U norm of V \n",
    "print(f\"Norm of U: \\n {np.linalg.norm(U,2)}\"), print(' ')\n",
    "print(f\"Norm of V: \\n {np.linalg.norm(V,2)}\"), print(' ')\n",
    "\n",
    "#norm of U@V\n",
    "print(f\"Norm of U@V: \\n {np.linalg.norm(U@V, 2)}\"), print(' ')"
   ]
  },
  {
   "cell_type": "code",
   "execution_count": 66,
   "id": "23a89c9b-cd8f-4007-991c-c3ed7ae39cc0",
   "metadata": {},
   "outputs": [
    {
     "name": "stdout",
     "output_type": "stream",
     "text": [
      "U@U: \n",
      " [[ 1.  0. -0.  0.  0.]\n",
      " [ 0.  1.  0.  0. -0.]\n",
      " [-0.  0.  1.  0. -0.]\n",
      " [ 0.  0.  0.  1.  0.]\n",
      " [ 0. -0. -0.  0.  1.]]\n",
      " \n",
      "V'@V: \n",
      " [[ 1.  0. -0.  0.  0.]\n",
      " [ 0.  1. -0. -0. -0.]\n",
      " [-0. -0.  1.  0.  0.]\n",
      " [ 0. -0.  0.  1. -0.]\n",
      " [ 0. -0.  0. -0.  1.]]\n",
      " \n",
      "U@V: \n",
      " [[ 0.65   0.269  0.092  0.53  -0.464]\n",
      " [-0.234  0.336  0.799 -0.302 -0.319]\n",
      " [ 0.467 -0.434  0.546  0.027  0.543]\n",
      " [-0.545 -0.303  0.232  0.745 -0.044]\n",
      " [-0.081  0.731  0.019  0.269  0.622]]\n",
      " \n",
      "[[ 1.  0. -0.  0.  0.]\n",
      " [ 0.  1.  0.  0. -0.]\n",
      " [-0.  0.  1.  0. -0.]\n",
      " [ 0.  0.  0.  1.  0.]\n",
      " [ 0. -0. -0.  0.  1.]]\n"
     ]
    }
   ],
   "source": [
    "print(f\"U@U: \\n {np.round(U@U.T, 3)}\"), print(' ')\n",
    "print(f\"V'@V: \\n {np.round(V.T@V, 3)}\"), print(' ')\n",
    "print(f\"U@V: \\n {np.round(U@V, 3)}\"), print(' ')\n",
    "\n",
    "C = U@V\n",
    "print(np.round(C@C.T, 3))"
   ]
  },
  {
   "cell_type": "markdown",
   "id": "ea0d5933-45c5-4cd4-9b1a-f40bedefedfc",
   "metadata": {},
   "source": [
    "## Pseudoinverse and matrix inverse"
   ]
  },
  {
   "cell_type": "code",
   "execution_count": 69,
   "id": "8014caf3-28ae-4e25-b319-7534df9f1357",
   "metadata": {},
   "outputs": [
    {
     "name": "stdout",
     "output_type": "stream",
     "text": [
      "[[ 3.  6. 12.]\n",
      " [ 6. 12. 24.]\n",
      " [12. 24. 50.]]\n",
      " \n",
      "[[ 2.00000000e-01  4.00000000e-01  0.00000000e+00]\n",
      " [ 4.00000000e-01  8.00000000e-01  0.00000000e+00]\n",
      " [-5.55111512e-17 -1.11022302e-16  1.00000000e+00]]\n"
     ]
    }
   ],
   "source": [
    "#matrix\n",
    "\n",
    "A = [[1,2,3],\n",
    "    [1,2,4],\n",
    "    [1,2,5]]\n",
    "\n",
    "#full svd (variables Us, Ss, Vs)\n",
    "U, S, V = np.linalg.svd(A)\n",
    "\n",
    "#pseudoinvert S\n",
    "nonzeroels =- S>10**-14 #find nonzero elements (>rounding errors)\n",
    "S[nonzeroels] = 1/S[nonzeroels] #invert only those elements\n",
    "\n",
    "#now pseudoinvert A\n",
    "Ai = V.T@np.diag(S)@U.T\n",
    "\n",
    "#its sort of close to I...?\n",
    "print(Ai@A), print(' ')\n",
    "\n",
    "#compute with pinv function\n",
    "print(np.linalg.pinv(A)@A)"
   ]
  },
  {
   "cell_type": "markdown",
   "id": "2373f96a-2dea-40b0-84f0-40a306de0528",
   "metadata": {},
   "source": [
    "## Condition number of a matrix"
   ]
  },
  {
   "cell_type": "code",
   "execution_count": 76,
   "id": "6e40c119-b91f-4c34-a07b-b57a27fe99b2",
   "metadata": {},
   "outputs": [
    {
     "name": "stderr",
     "output_type": "stream",
     "text": [
      "<>:37: SyntaxWarning: invalid escape sequence '\\s'\n",
      "<>:37: SyntaxWarning: invalid escape sequence '\\s'\n",
      "C:\\Users\\kenny\\AppData\\Local\\Temp\\ipykernel_8948\\1160333523.py:37: SyntaxWarning: invalid escape sequence '\\s'\n",
      "  plt.ylabel('$\\sigma$')\n"
     ]
    },
    {
     "data": {
      "image/png": "[encoded data removed]",
      "text/plain": [
       "<Figure size 640x480 with 2 Axes>"
      ]
     },
     "metadata": {},
     "output_type": "display_data"
    }
   ],
   "source": [
    "m = 40\n",
    "\n",
    "#define a 2D Gaussian for smoothing\n",
    "k = int((m+n)/4)\n",
    "#print(k), print(' ')\n",
    "\n",
    "xx = np.linspace(-3, 3, k)\n",
    "#print(xx), print(' ')\n",
    "\n",
    "[X,Y] = np.meshgrid(xx, xx)\n",
    "#print([X,Y]) \n",
    "\n",
    "g2d = np.exp(-(X**2 + Y **2)/ (k+8))\n",
    "#print(g2d), print(' ')\n",
    "\n",
    "#matrix \n",
    "A = np.random.randn(m,m)\n",
    "A = scipy.signal.convolve2d(np.random.randn(m,m), g2d, 'same')\n",
    "\n",
    "#SVD\n",
    "S = np.linalg.svd(A)[1]\n",
    "\n",
    "\n",
    "#compute condition number\n",
    "condnum = S[0]/S[-1]\n",
    "\n",
    "#show the matrix\n",
    "\n",
    "plt.subplot(211)\n",
    "plt.imshow(A)\n",
    "plt.axis('off')\n",
    "plt.title('Cond.num: %d' %condnum)\n",
    "\n",
    "plt.subplot(212)\n",
    "plt.plot(S, 'ks-')\n",
    "plt.xlabel('Component number')\n",
    "plt.ylabel('$\\sigma$')\n",
    "plt.title('Scree plot of singular values')\n",
    "\n",
    "plt.show()"
   ]
  },
  {
   "cell_type": "code",
   "execution_count": null,
   "id": "69a5203a-495a-4800-aab4-6292cd5a6608",
   "metadata": {},
   "outputs": [],
   "source": []
  }
 ],
 "metadata": {
  "kernelspec": {
   "display_name": "Python 3 (ipykernel)",
   "language": "python",
   "name": "python3"
  },
  "language_info": {
   "codemirror_mode": {
    "name": "ipython",
    "version": 3
   },
   "file_extension": ".py",
   "mimetype": "text/x-python",
   "name": "python",
   "nbconvert_exporter": "python",
   "pygments_lexer": "ipython3",
   "version": "3.12.7"
  }
 },
 "nbformat": 4,
 "nbformat_minor": 5
}
