{
 "cells": [
  {
   "cell_type": "markdown",
   "id": "fb11687c-60ec-4b73-9a8d-7f20eaea8f3a",
   "metadata": {},
   "source": [
    "# LEAST SQUARES"
   ]
  },
  {
   "cell_type": "markdown",
   "id": "db8b3310-f390-49c7-b602-6fb3b5e30303",
   "metadata": {},
   "source": [
    "$$\n",
    "\\begin{aligned}\n",
    "AX &= B \\Rightarrow X\\beta = y \\\\\n",
    "(X^T X)^{-1} X^T X\\beta &= (X^T X)^{-1} X^T y \\\\\n",
    "\\beta &= (X^T X)^{-1} X^T y\n",
    "\\end{aligned}\n",
    "$$\n"
   ]
  },
  {
   "cell_type": "markdown",
   "id": "7e2dc0a8-4a6b-44cb-86b9-0af3db11fe49",
   "metadata": {},
   "source": [
    "$$\n",
    "\\begin{aligned}\n",
    "\\beta &= (X^T X)^{-1} X^T y \\Rightarrow y \\in C(X) \\\\[0.5em]\n",
    "\\text{Otherwise:} \\\\[0.5em]\n",
    "\\beta &= (X^T X)^{-1} X^T y^{a} \\\\[0.5em]\n",
    "\\text{Then:} \\quad\n",
    "&\\left\\{\n",
    "\\begin{array}{l}\n",
    "y^{a} \\in C(X) \\\\\n",
    "y = X\\beta + \\epsilon \\Rightarrow (y+\\epsilon) \\in C(X)\n",
    "\\end{array}\n",
    "\\right.\n",
    "\\end{aligned}\n",
    "$$\n"
   ]
  },
  {
   "cell_type": "code",
   "execution_count": 61,
   "id": "c46d4d64-a3cf-40a7-834f-a2d5f613be1d",
   "metadata": {},
   "outputs": [],
   "source": [
    "import numpy as np\n",
    "from sympy import Matrix\n"
   ]
  },
  {
   "cell_type": "code",
   "execution_count": 71,
   "id": "0e0becd0-acf6-4e23-a523-03b016e2b5b4",
   "metadata": {},
   "outputs": [
    {
     "data": {
      "text/plain": [
       "(10, 1)"
      ]
     },
     "execution_count": 71,
     "metadata": {},
     "output_type": "execute_result"
    }
   ],
   "source": [
    "m = 10\n",
    "n = 3\n",
    "\n",
    "#create data\n",
    "X = np.random.randn(m,n) #design matrix\n",
    "y = np.random.randn(m, 1) #outcome measures (data)\n",
    "\n",
    "np.shape(y)"
   ]
  },
  {
   "cell_type": "code",
   "execution_count": 73,
   "id": "388bf8e9-137d-4830-aab6-92ab6d1d2d4b",
   "metadata": {},
   "outputs": [
    {
     "name": "stdout",
     "output_type": "stream",
     "text": [
      "Matrix X: \n",
      " [[ 0.73442924 -0.62484215 -0.18717041]\n",
      " [-0.73145854 -0.74336685 -1.90981731]\n",
      " [-0.19414905 -0.36907752 -0.62081246]\n",
      " [-0.57395747  2.45211526  0.25757598]\n",
      " [-1.23794883  0.84549305 -0.23693095]\n",
      " [-0.88500498  0.12173219 -0.06936101]\n",
      " [ 0.01236298  0.84969526  0.01758185]\n",
      " [ 0.45776717  1.97554087 -0.55162254]\n",
      " [ 0.05549468 -0.96710617  0.29838295]\n",
      " [ 0.7280732  -0.15279942 -1.00439104]]\n",
      " \n",
      "Matrix y: \n",
      " [[-0.69694784]\n",
      " [-0.36671128]\n",
      " [-0.24048944]\n",
      " [-0.61287868]\n",
      " [-1.53310997]\n",
      " [-0.43941992]\n",
      " [-0.22981242]\n",
      " [-0.48676878]\n",
      " [-0.05725059]\n",
      " [ 0.01958627]]\n",
      " \n"
     ]
    },
    {
     "data": {
      "text/plain": [
       "(None, None)"
      ]
     },
     "execution_count": 73,
     "metadata": {},
     "output_type": "execute_result"
    }
   ],
   "source": [
    "print(f\"Matrix X: \\n {X}\"), print(\" \")\n",
    "print(f\"Matrix y: \\n {y}\"), print(\" \")"
   ]
  },
  {
   "cell_type": "code",
   "execution_count": 75,
   "id": "99d0480b-4875-41d0-871e-92d5ffd309d5",
   "metadata": {},
   "outputs": [
    {
     "name": "stdout",
     "output_type": "stream",
     "text": [
      "(Matrix([\n",
      "[1, 0, 0, 0],\n",
      "[0, 1, 0, 0],\n",
      "[0, 0, 1, 0],\n",
      "[0, 0, 0, 1],\n",
      "[0, 0, 0, 0],\n",
      "[0, 0, 0, 0],\n",
      "[0, 0, 0, 0],\n",
      "[0, 0, 0, 0],\n",
      "[0, 0, 0, 0],\n",
      "[0, 0, 0, 0]]), (0, 1, 2, 3))\n"
     ]
    }
   ],
   "source": [
    "#try directly applying RREF\n",
    "Xy = Matrix (np.concatenate([X,y], axis = 1))\n",
    "print(Xy.rref())"
   ]
  },
  {
   "cell_type": "code",
   "execution_count": 83,
   "id": "678d417e-e241-48cc-a67e-d76402802c59",
   "metadata": {},
   "outputs": [
    {
     "name": "stdout",
     "output_type": "stream",
     "text": [
      "[[ 4.50016391 -1.65540077  0.61986563]\n",
      " [-1.65540077 13.40517247  0.97870252]\n",
      " [ 0.61986563  0.97870252  5.59756592]]\n",
      " \n",
      "[[ 2.22704802]\n",
      " [-3.16025945]\n",
      " [ 1.44367261]]\n",
      " \n",
      "Matrix([[4.50016390670905, -1.65540077331739, 0.619865627376073, 2.22704802273300], [-1.65540077331739, 13.4051724667056, 0.978702524238679, -3.16025944732812], [0.619865627376073, 0.978702524238679, 5.59756591528227, 1.44367260713801]])\n"
     ]
    }
   ],
   "source": [
    "#now reapply to the normal equations\n",
    "XtX = X.T@X\n",
    "Xty = X.T@y\n",
    "normEQ = Matrix(np.concatenate([XtX, Xty], axis = 1))\n",
    "print(XtX), print(\" \")\n",
    "print(Xty), print(\" \")\n",
    "print(normEQ)"
   ]
  },
  {
   "cell_type": "code",
   "execution_count": 85,
   "id": "14ce9d97-9160-4094-a92d-430f4f33f735",
   "metadata": {},
   "outputs": [
    {
     "name": "stdout",
     "output_type": "stream",
     "text": [
      "[[1 0 0 0.384217529318084]\n",
      " [0 1 0 -0.206663984697949]\n",
      " [0 0 1 0.251497160029511]]\n",
      " \n",
      "Matrix([[0.384217529318084], [-0.206663984697949], [0.251497160029511]])\n",
      " \n"
     ]
    },
    {
     "data": {
      "text/plain": [
       "(None, None)"
      ]
     },
     "execution_count": 85,
     "metadata": {},
     "output_type": "execute_result"
    }
   ],
   "source": [
    "Xsol = normEQ.rref()\n",
    "Xsol = Xsol[0]\n",
    "beta = Xsol[:,-1]\n",
    "\n",
    "print(np.array(Xsol)), print(\" \")\n",
    "print(beta), print(' ')"
   ]
  },
  {
   "cell_type": "code",
   "execution_count": 87,
   "id": "31c47fa8-77d6-4dd4-9754-a0e1d918b00e",
   "metadata": {},
   "outputs": [
    {
     "name": "stdout",
     "output_type": "stream",
     "text": [
      "[[ 0.38421753]\n",
      " [-0.20666398]\n",
      " [ 0.25149716]]\n"
     ]
    }
   ],
   "source": [
    "#compare to the left- inverse\n",
    "beta2 = np.linalg.inv(XtX) @ Xty\n",
    "print(beta2)"
   ]
  },
  {
   "cell_type": "code",
   "execution_count": 89,
   "id": "36db44e1-2132-4891-9295-e1feb12c26ae",
   "metadata": {},
   "outputs": [
    {
     "name": "stdout",
     "output_type": "stream",
     "text": [
      "[[ 0.38421753]\n",
      " [-0.20666398]\n",
      " [ 0.25149716]]\n"
     ]
    }
   ],
   "source": [
    "# with python solver\n",
    "beta3 = np.linalg.solve(XtX, Xty)\n",
    "print(beta3)"
   ]
  },
  {
   "cell_type": "code",
   "execution_count": null,
   "id": "413ab48f-60f7-4ce8-b6d1-244fe039747b",
   "metadata": {},
   "outputs": [],
   "source": []
  }
 ],
 "metadata": {
  "kernelspec": {
   "display_name": "Python 3 (ipykernel)",
   "language": "python",
   "name": "python3"
  },
  "language_info": {
   "codemirror_mode": {
    "name": "ipython",
    "version": 3
   },
   "file_extension": ".py",
   "mimetype": "text/x-python",
   "name": "python",
   "nbconvert_exporter": "python",
   "pygments_lexer": "ipython3",
   "version": "3.12.7"
  }
 },
 "nbformat": 4,
 "nbformat_minor": 5
}
